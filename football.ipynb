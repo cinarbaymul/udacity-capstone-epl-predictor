{
 "cells": [
  {
   "cell_type": "code",
   "execution_count": null,
   "metadata": {},
   "outputs": [],
   "source": [
    "import pandas as pd\n",
    "import numpy as np\n",
    "import geocoder\n",
    "\n",
    "def get_results_data():\n",
    "    df = pd.DataFrame()\n",
    "\n",
    "    for i in range(1, 19):\n",
    "        year = str(1+(i*101))\n",
    "        if len(year)<4:\n",
    "            year = '0'+year\n",
    "        url = 'https://www.football-data.co.uk/mmz4281/' + year + '/E0.csv'\n",
    "        df_results = pd.read_csv(url, usecols=['Date', 'HomeTeam', 'AwayTeam', 'FTHG', 'FTAG', 'FTR'],  error_bad_lines=False)\n",
    "        df_results['season'] = year\n",
    "        df = pd.concat([df, df_results], axis=0)\n",
    "            \n",
    "    df.dropna(inplace=True)\n",
    "    \n",
    "    return df\n",
    " \n",
    "df_results = get_results_data()\n"
   ]
  },
  {
   "cell_type": "code",
   "execution_count": null,
   "metadata": {
    "scrolled": true
   },
   "outputs": [],
   "source": [
    "print(df_results.info())\n",
    "print(df_results.head())\n",
    "print(df_results.tail())"
   ]
  },
  {
   "cell_type": "code",
   "execution_count": null,
   "metadata": {},
   "outputs": [],
   "source": [
    "def results_create_datetime(df):\n",
    "    df['day'] = df['Date'].str.split('/').str[0]\n",
    "    df['month'] = df['Date'].str.split('/').str[1]\n",
    "    df['year'] = df['Date'].str.split('/').str[2]\n",
    "    df['year'] = np.where(df['year'].astype(str).str.len()<3, '20' + df['year'].astype(str), df['year'])\n",
    "    df['Date'] = pd.to_datetime(df[['year', 'month', 'day']])\n",
    "    df['PreviousDate'] = df['Date'] - pd.DateOffset(days=1)\n",
    "    df.drop(['day', 'month', 'year'], axis=1, inplace=True)\n",
    "    return df\n",
    "\n",
    "df = results_create_datetime(df_results)\n",
    "df_results.to_csv('results.csv', index=False)"
   ]
  },
  {
   "cell_type": "code",
   "execution_count": null,
   "metadata": {},
   "outputs": [],
   "source": [
    "df_results = pd.read_csv('results.csv')\n"
   ]
  },
  {
   "cell_type": "code",
   "execution_count": null,
   "metadata": {},
   "outputs": [],
   "source": [
    "def get_list_of_dates(df):\n",
    "    df['PreviousDate'] = df['PreviousDate'].dt.date.astype(str)\n",
    "    dates = list(set(df_results['PreviousDate']))\n",
    "    dates.sort()\n",
    "    return dates\n",
    "\n",
    "dates = get_list_of_dates(df_results)"
   ]
  },
  {
   "cell_type": "code",
   "execution_count": null,
   "metadata": {},
   "outputs": [],
   "source": [
    "def get_elo_data(dates):\n",
    "    df = pd.DataFrame(columns=['Club', 'Elo', 'Country', 'Level', 'Date'])\n",
    "    length = len(dates)\n",
    "    while length>0:\n",
    "        try:\n",
    "            for i in dates:\n",
    "                url = 'http://api.clubelo.com/' + str(i)\n",
    "                df_elo = pd.read_csv(url, usecols=['Club', 'Elo', 'Country', 'Level'],  error_bad_lines=False)\n",
    "                df_elo = df_elo[(df_elo['Country']=='ENG') & (df_elo['Level']==1)]\n",
    "                df_elo['Date'] = i\n",
    "                df = pd.concat([df, df_elo], sort=True)\n",
    "                dates.remove(i)\n",
    "                length = len(dates)\n",
    "        except:\n",
    "            pass\n",
    "    \n",
    "    df['dup'] = df.duplicated(['Club', 'Date'], keep='first')\n",
    "    df = df[df['dup']==False]\n",
    "    df.drop(['dup'], axis=1, inplace=True)\n",
    "    return df\n",
    "\n",
    "df_elo = get_elo_data(dates)"
   ]
  },
  {
   "cell_type": "code",
   "execution_count": null,
   "metadata": {},
   "outputs": [],
   "source": [
    "df_elo.info()\n",
    "df_elo.to_csv('elo.csv', index=False)"
   ]
  },
  {
   "cell_type": "code",
   "execution_count": null,
   "metadata": {},
   "outputs": [],
   "source": [
    "df_results = pd.read_csv('results.csv', dtype={'season': object})\n",
    "df_elo = pd.read_csv('elo.csv')"
   ]
  },
  {
   "cell_type": "code",
   "execution_count": null,
   "metadata": {},
   "outputs": [],
   "source": [
    "df_elo = df_elo[['Club', 'Date', 'Elo']]\n",
    "\n",
    "df_elo['Date'] = pd.to_datetime(df_elo['Date']) + pd.DateOffset(days=1)\n",
    "df_elo['Date'] = df_elo['Date'].dt.date.astype(str)\n",
    "\n",
    "\n",
    "df_elo.rename(columns = {'Club': 'HomeTeam', 'Elo':'HomeElo'}, inplace=True)\n",
    "df = df_results.merge(df_elo, on=['HomeTeam', 'Date'], how='left')\n",
    "\n",
    "df_elo.rename(columns = {'HomeTeam': 'AwayTeam', 'HomeElo':'AwayElo'}, inplace=True)\n",
    "df = df.merge(df_elo, on=['AwayTeam', 'Date'], how='left')"
   ]
  },
  {
   "cell_type": "code",
   "execution_count": null,
   "metadata": {},
   "outputs": [],
   "source": [
    "teams = list(df['HomeTeam'].unique())\n",
    "teams.sort()\n",
    "print(teams)\n",
    "cities = ['Islington, London', 'Birmingham', 'Birmingham', 'Blackburn', 'Blackpool', 'Bolton', 'Bournemouth', 'Brighton', 'Burnley', 'Cardiff', \n",
    "          'Charlton', 'Chelsea', 'Selhurst', 'Derby', 'Liverpool', 'Fulham', 'Huddersfield', 'Hull', 'Ipswich', 'Leeds', 'Leicester', \n",
    "          'Liverpool', 'Manchester', 'Manchester', 'Middlesbrough', 'Newcastle', 'Norwich', 'Portsmouth', 'White City, London', 'Reading', \n",
    "          'Sheffield', 'Southampton', 'Stoke-On-Trent', 'Sunderland', 'Swansea', 'Tottenham', 'Watford', 'West Bromwich', \n",
    "          'Stratford', 'Wigan', 'Wolverhampton']"
   ]
  },
  {
   "cell_type": "code",
   "execution_count": null,
   "metadata": {},
   "outputs": [],
   "source": [
    "def get_coordinates(teams, cities):\n",
    "    lats = []\n",
    "    longs = []\n",
    "    for c in cities:\n",
    "        query = c +\", UK\"\n",
    "        location = geocoder.osm(query)\n",
    "        lats.append(location.lat)\n",
    "        longs.append(location.lng)\n",
    "\n",
    "    df_locations = pd.DataFrame(columns = ['Team', 'Lat', 'Long'])\n",
    "    df_locations['Team'] = teams\n",
    "    df_locations['Lat'] = lats\n",
    "    df_locations['Long'] = longs\n",
    "    return df_locations\n",
    "\n",
    "df_locations = get_coordinates(teams, cities)"
   ]
  },
  {
   "cell_type": "code",
   "execution_count": null,
   "metadata": {},
   "outputs": [],
   "source": [
    "df_locations.rename(columns = {'Team': 'HomeTeam', 'Lat':'HomeLat', 'Long':'HomeLong'}, inplace=True)\n",
    "df = df.merge(df_locations, on = ['HomeTeam'], how='left')\n",
    "\n",
    "df_locations.rename(columns = {'HomeTeam': 'AwayTeam', 'HomeLat':'AwayLat', 'HomeLong':'AwayLong'}, inplace=True)\n",
    "df = df.merge(df_locations, on = ['AwayTeam'], how='left')"
   ]
  },
  {
   "cell_type": "code",
   "execution_count": null,
   "metadata": {},
   "outputs": [],
   "source": [
    "from math import radians, cos, sin, asin, sqrt\n",
    "\n",
    "def haversine(row):\n",
    "\n",
    "      R = 3959.87433 \n",
    "      lat1 = row['HomeLat']\n",
    "      lon1 = row['HomeLong']\n",
    "      lat2 = row['AwayLat']\n",
    "      lon2 = row['AwayLong']\n",
    "      dLat = radians(lat2 - lat1)\n",
    "      dLon = radians(lon2 - lon1)\n",
    "      lat1 = radians(lat1)\n",
    "      lat2 = radians(lat2)\n",
    "\n",
    "      a = sin(dLat/2)**2 + cos(lat1)*cos(lat2)*sin(dLon/2)**2\n",
    "      c = 2*asin(sqrt(a))\n",
    "\n",
    "      return R * c\n",
    "\n",
    "\n",
    "df['Distance'] = df.apply(lambda row: haversine(row), axis=1)"
   ]
  },
  {
   "cell_type": "code",
   "execution_count": null,
   "metadata": {},
   "outputs": [],
   "source": [
    "df['LocalRivals'] = np.where(df['Distance']<15, 1, 0)\n",
    "df['Distance'] = np.where(df['Distance']==0, 1, df['Distance'])\n",
    "df['Distance'] = np.log(df['Distance'])"
   ]
  },
  {
   "cell_type": "code",
   "execution_count": null,
   "metadata": {},
   "outputs": [],
   "source": [
    "df['Date'] = pd.to_datetime(df['Date'])\n",
    "\n",
    "\n",
    "df['HomePerf_1'], df['HomePerf_2'], df['HomePerf_3'] = [0, 0, 0]\n",
    "df['AwayPerf_1'], df['AwayPerf_2'], df['AwayPerf_3'] = [0, 0, 0]\n",
    "df['HomeWinStreak'], df['AwayWinStreak'] = [0, 0]\n",
    "df['HomeNonWinStreak'], df['AwayNonWinStreak'] = [0, 0]\n",
    "df['HomeLosingStreak'], df['AwayLosingStreak'] = [0, 0]\n",
    "df['HomeNonLosingStreak'], df['AwayNonLosingStreak'] = [0, 0]\n",
    "df['HomeDrawStreak'], df['AwayDrawStreak'] = [0, 0]\n",
    "df['HomeLastResult'], df['AwayLastResult'] = ['None', 'None']"
   ]
  },
  {
   "cell_type": "code",
   "execution_count": null,
   "metadata": {},
   "outputs": [],
   "source": [
    "def elo_performance(df, t):\n",
    "    df['Elo'] = 0\n",
    "    df['Perf_1'], df['Perf_2'], df['Perf_3'] = [0, 0, 0]\n",
    "       \n",
    "    df['Elo'] = np.where(df['HomeTeam']==t, df['HomeElo'], df['Elo'])\n",
    "    df['Elo'] = np.where(df['AwayTeam']==t, df['AwayElo'], df['Elo'])\n",
    "\n",
    "    df['Perf_1'] = np.where((df['Team']==t) & (df['Team'].shift()==t) & (df['season'] == df['season'].shift()) , df['Elo'].diff(), df['Perf_1'])\n",
    "    df['Perf_2'] = np.where((df['Team']==t) & (df['Team'].shift(2)==t) & (df['season'] == df['season'].shift(2)), df['Elo'].diff(2), df['Perf_2'])\n",
    "    df['Perf_3'] = np.where((df['Team']==t) & (df['Team'].shift(3)==t) & (df['season'] == df['season'].shift(3)), df['Elo'].diff(3), df['Perf_3'])\n",
    "    \n",
    "    df['HomePerf_1'] = np.where(df['HomeTeam']==t , df['Perf_1'], df['HomePerf_1'])\n",
    "    df['HomePerf_2'] = np.where(df['HomeTeam']==t , df['Perf_2'], df['HomePerf_2'])\n",
    "    df['HomePerf_3'] = np.where(df['HomeTeam']==t , df['Perf_3'], df['HomePerf_3'])\n",
    "    \n",
    "    df['AwayPerf_1'] = np.where(df['AwayTeam']==t , df['Perf_1'], df['AwayPerf_1'])\n",
    "    df['AwayPerf_2'] = np.where(df['AwayTeam']==t , df['Perf_2'], df['AwayPerf_2'])\n",
    "    df['AwayPerf_3'] = np.where(df['AwayTeam']==t , df['Perf_3'], df['AwayPerf_3'])\n",
    "    \n",
    "    df.drop(['Elo', 'Perf_1', 'Perf_2', 'Perf_3'], axis=1, inplace=True)\n",
    "    return df"
   ]
  },
  {
   "cell_type": "code",
   "execution_count": null,
   "metadata": {},
   "outputs": [],
   "source": [
    "def prev_game(df, t):\n",
    "    df['date_diff'] = df['Date'].diff()\n",
    "    df['TeamResult'] = 'None'\n",
    "    df['LastResult'] = 'None'\n",
    "    df['TeamResult'] =  np.where((df['Team']==t)  & (df['Team'] == df['HomeTeam']) & (df['FTR']=='H'), 'Win' , df['TeamResult'])\n",
    "    df['TeamResult'] =  np.where((df['Team']==t)  & (df['Team'] == df['HomeTeam']) & (df['FTR']=='A'), 'Loss' , df['TeamResult'])\n",
    "    df['TeamResult'] =  np.where((df['Team']==t)  & (df['Team'] == df['AwayTeam']) & (df['FTR']=='A'), 'Win' , df['TeamResult'])\n",
    "    df['TeamResult'] =  np.where((df['Team']==t)  & (df['Team'] == df['AwayTeam']) & (df['FTR']=='H'), 'Loss' , df['TeamResult'])\n",
    "    df['TeamResult'] =  np.where((df['Team']==t)   & (df['FTR']=='D'), 'Draw' , df['TeamResult'])\n",
    "    \n",
    "    df['LastResult'] = np.where((df['Team'].shift()==t) & (df['date_diff']<'180 days'), df['TeamResult'].shift(), df['LastResult'])\n",
    "    df['HomeLastResult'] = np.where(df['HomeTeam']==t, df['LastResult'], df['HomeLastResult'])\n",
    "    df['AwayLastResult'] = np.where(df['AwayTeam']==t, df['LastResult'], df['AwayLastResult'])\n",
    "    df.drop(['date_diff', 'TeamResult', 'LastResult'], axis=1, inplace=True)\n",
    "    return df"
   ]
  },
  {
   "cell_type": "code",
   "execution_count": null,
   "metadata": {},
   "outputs": [],
   "source": [
    "def win_streaks(df, t):\n",
    "    df['date_diff'] = df['Date'].diff()\n",
    "    \n",
    "    df['Win'], df['prev'], df['WinStreak'] = [0, 0, 0]\n",
    "    df['Win'] = np.where((df['Team']==t)  & (df['Team'] == df['HomeTeam']) & (df['FTR']=='H'), 1, df['Win'])\n",
    "    df['Win'] = np.where((df['Team']==t)  & (df['Team'] == df['AwayTeam']) & (df['FTR']=='A'), 1, df['Win'])\n",
    "        \n",
    "    df['prev'] = np.where((df['Team'].shift()==t)  & (df['Win'].shift()==1) & (df['date_diff']<'180 days'), 1,0)\n",
    "    v = df['prev'].dropna()\n",
    "    grouper = (v!=v.shift()).cumsum()\n",
    "    df['WinStreak'] = df.groupby(grouper)['prev'].cumsum()    \n",
    "    df['HomeWinStreak'] = np.where(df['HomeTeam']==t, df['WinStreak'], df['HomeWinStreak'])\n",
    "    df['AwayWinStreak'] = np.where(df['AwayTeam']==t, df['WinStreak'], df['AwayWinStreak'])    \n",
    "    df.drop(['date_diff', 'Win', 'prev', 'WinStreak'], axis=1, inplace=True)\n",
    "    return df"
   ]
  },
  {
   "cell_type": "code",
   "execution_count": null,
   "metadata": {},
   "outputs": [],
   "source": [
    "def nonwin_streaks(df, t):\n",
    "    df['date_diff'] = df['Date'].diff()\n",
    "    \n",
    "    df['NonWin'], df['prev'], df['NonWinStreak'] = [0, 0, 0]\n",
    "    df['NonWin'] = np.where((df['Team']==t) & (df['Team'] == df['HomeTeam']) & (df['FTR']!='H'), 1, df['NonWin'])\n",
    "    df['NonWin'] = np.where((df['Team']==t) & (df['Team'] == df['AwayTeam']) & (df['FTR']!='A'), 1, df['NonWin'])\n",
    "        \n",
    "    df['prev'] = np.where((df['Team'].shift()==t) & (df['NonWin'].shift()==1) & (df['date_diff']<'180 days'), 1,0)\n",
    "    v = df['prev'].dropna()\n",
    "    grouper = (v!=v.shift()).cumsum()\n",
    "    df['NonWinStreak'] = df.groupby(grouper)['prev'].cumsum()    \n",
    "    df['HomeNonWinStreak'] = np.where(df['HomeTeam']==t, df['NonWinStreak'], df['HomeNonWinStreak'])\n",
    "    df['AwayNonWinStreak'] = np.where(df['AwayTeam']==t, df['NonWinStreak'], df['AwayNonWinStreak'])    \n",
    "    df.drop(['date_diff', 'NonWin', 'prev', 'NonWinStreak'], axis=1, inplace=True)\n",
    "    return df"
   ]
  },
  {
   "cell_type": "code",
   "execution_count": null,
   "metadata": {},
   "outputs": [],
   "source": [
    "def losing_streaks(df, t):\n",
    "    df['date_diff'] = df['Date'].diff()\n",
    "    \n",
    "    df['Losing'], df['prev'], df['LosingStreak'] = [0, 0, 0]\n",
    "    df['Losing'] = np.where((df['Team']==t) & (df['Team'] == df['HomeTeam']) & (df['FTR']=='A'), 1, df['Losing'])\n",
    "    df['Losing'] = np.where((df['Team']==t) & (df['Team'] == df['AwayTeam']) & (df['FTR']=='H'), 1, df['Losing'])\n",
    "        \n",
    "    df['prev'] = np.where((df['Team'].shift()==t) & (df['Losing'].shift()==1) & (df['date_diff']<'180 days'), 1,0)\n",
    "    v = df['prev'].dropna()\n",
    "    grouper = (v!=v.shift()).cumsum()\n",
    "    df['LosingStreak'] = df.groupby(grouper)['prev'].cumsum()    \n",
    "    df['HomeLosingStreak'] = np.where(df['HomeTeam']==t, df['LosingStreak'], df['HomeLosingStreak'])\n",
    "    df['AwayLosingStreak'] = np.where(df['AwayTeam']==t, df['LosingStreak'], df['AwayLosingStreak'])    \n",
    "    df.drop(['date_diff', 'Losing', 'prev', 'LosingStreak'], axis=1, inplace=True)\n",
    "    return df"
   ]
  },
  {
   "cell_type": "code",
   "execution_count": null,
   "metadata": {},
   "outputs": [],
   "source": [
    "def nonlosing_streaks(df, t):\n",
    "    df['date_diff'] = df['Date'].diff()\n",
    "    \n",
    "    df['NonLosing'], df['prev'], df['NonLosingStreak'] = [0, 0, 0]\n",
    "    df['NonLosing'] = np.where((df['Team']==t) & (df['Team'] == df['HomeTeam']) & (df['FTR']!='A'), 1, df['NonLosing'])\n",
    "    df['NonLosing'] = np.where((df['Team']==t) & (df['Team'] == df['AwayTeam']) & (df['FTR']!='H'), 1, df['NonLosing'])\n",
    "        \n",
    "    df['prev'] = np.where((df['Team'].shift()==t) & (df['NonLosing'].shift()==1) & (df['date_diff']<'180 days'), 1,0)\n",
    "    v = df['prev'].dropna()\n",
    "    grouper = (v!=v.shift()).cumsum()\n",
    "    df['NonLosingStreak'] = df.groupby(grouper)['prev'].cumsum()    \n",
    "    df['HomeNonLosingStreak'] = np.where(df['HomeTeam']==t, df['NonLosingStreak'], df['HomeNonLosingStreak'])\n",
    "    df['AwayNonLosingStreak'] = np.where(df['AwayTeam']==t, df['NonLosingStreak'], df['AwayNonLosingStreak'])    \n",
    "    df.drop(['date_diff', 'NonLosing', 'prev', 'NonLosingStreak'], axis=1, inplace=True)\n",
    "    return df"
   ]
  },
  {
   "cell_type": "code",
   "execution_count": null,
   "metadata": {},
   "outputs": [],
   "source": [
    "def draw_streaks(df, t):\n",
    "    df['date_diff'] = df['Date'].diff()\n",
    "    \n",
    "    df['Draw'], df['prev'], df['DrawStreak'] = [0, 0, 0]\n",
    "    df['Draw'] = np.where((df['Team']==t) & (df['Team'] == df['HomeTeam']) & (df['FTR']=='D'), 1, df['Draw'])\n",
    "    df['Draw'] = np.where((df['Team']==t) & (df['Team'] == df['AwayTeam']) & (df['FTR']=='D'), 1, df['Draw'])\n",
    "        \n",
    "    df['prev'] = np.where((df['Team'].shift()==t) & (df['Draw'].shift()==1) & (df['date_diff']<'180 days'), 1,0)\n",
    "    v = df['prev'].dropna()\n",
    "    grouper = (v!=v.shift()).cumsum()\n",
    "    df['DrawStreak'] = df.groupby(grouper)['prev'].cumsum()    \n",
    "    df['HomeDrawStreak'] = np.where(df['HomeTeam']==t, df['DrawStreak'], df['HomeDrawStreak'])\n",
    "    df['AwayDrawStreak'] = np.where(df['AwayTeam']==t, df['DrawStreak'], df['AwayDrawStreak'])    \n",
    "    df.drop(['date_diff', 'Draw', 'prev', 'DrawStreak'], axis=1, inplace=True)\n",
    "    return df"
   ]
  },
  {
   "cell_type": "code",
   "execution_count": null,
   "metadata": {},
   "outputs": [],
   "source": [
    "for t in teams:\n",
    "    df['Team'] = np.where(df['HomeTeam']==t, t, None)\n",
    "    df['Team'] = np.where(df['AwayTeam']==t, t, df['Team'])\n",
    "    df.sort_values(by=['Team', 'Date'], inplace=True)\n",
    "\n",
    "    df = elo_performance(df, t)\n",
    "    df = prev_game(df, t)\n",
    "    df = win_streaks(df, t)\n",
    "    df = nonwin_streaks(df, t)\n",
    "    df = losing_streaks(df, t)\n",
    "    df = nonlosing_streaks(df, t)\n",
    "    df = draw_streaks(df, t)\n",
    "    \n",
    "df.drop(['Team'], axis=1, inplace=True)"
   ]
  },
  {
   "cell_type": "code",
   "execution_count": null,
   "metadata": {},
   "outputs": [],
   "source": [
    "df['Day'] = df['Date'].dt.weekday_name\n",
    "df['Month'] = df['Date'].dt.strftime('%b')\n",
    "df['Year'] = df['Date'].dt.year\n",
    "\n",
    "df['Weekend'] = np.where((df['Day']=='Saturday') | (df['Day']=='Sunday'), 1, 0) \n",
    "\n",
    "df.sort_values(['Date'], inplace=True)\n",
    "df['row_count'] = df.groupby('season').cumcount()\n",
    "df['GameWeek'] = np.floor(df['row_count']/10)+1"
   ]
  },
  {
   "cell_type": "code",
   "execution_count": null,
   "metadata": {},
   "outputs": [],
   "source": [
    "df.dropna(inplace=True)\n",
    "\n",
    "df.drop(['Date', 'HomeTeam', 'AwayTeam', 'FTHG', 'FTAG', 'season', 'PreviousDate', \n",
    "         'HomeLat', 'HomeLong', 'AwayLat', 'AwayLong', 'row_count'], axis=1, inplace=True)\n"
   ]
  }
 ],
 "metadata": {
  "kernelspec": {
   "display_name": "Python 3",
   "language": "python",
   "name": "python3"
  },
  "language_info": {
   "codemirror_mode": {
    "name": "ipython",
    "version": 3
   },
   "file_extension": ".py",
   "mimetype": "text/x-python",
   "name": "python",
   "nbconvert_exporter": "python",
   "pygments_lexer": "ipython3",
   "version": "3.7.5"
  }
 },
 "nbformat": 4,
 "nbformat_minor": 2
}
